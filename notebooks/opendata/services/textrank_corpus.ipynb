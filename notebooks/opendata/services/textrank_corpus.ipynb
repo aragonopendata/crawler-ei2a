{
 "cells": [
  {
   "cell_type": "code",
   "execution_count": 1,
   "metadata": {},
   "outputs": [
    {
     "data": {
      "text/plain": [
       "'UTF-8'"
      ]
     },
     "execution_count": 1,
     "metadata": {},
     "output_type": "execute_result"
    }
   ],
   "source": [
    "import textrank\n",
    "import pysolr\n",
    "import uuid\n",
    "import os\n",
    "import time\n",
    "import nltk\n",
    "import json\n",
    "import nltk.data\n",
    "\n",
    "import sys\n",
    "sys.stdout.encoding\n",
    "'UTF-8'"
   ]
  },
  {
   "cell_type": "code",
   "execution_count": 2,
   "metadata": {},
   "outputs": [],
   "source": [
    "LANGUAGE= 'spanish'\n",
    "\n",
    "SOLR_URL = \"http://argon-solr:8975/solr/opendata\"\n",
    "solr = pysolr.Solr(SOLR_URL, timeout=10)"
   ]
  },
  {
   "cell_type": "code",
   "execution_count": 3,
   "metadata": {},
   "outputs": [],
   "source": [
    "# retrieves a document set by category (from Solr).\n",
    "def retrieve_documents_solr(category, k = 100000):\n",
    "    document_set = []    \n",
    "    query = solr.search(q= 'categorias:' + '\\\"' + category + '\\\"', fl=\"texto\", rows = k)\n",
    "    for q in query:\n",
    "        document_set.append(q['texto'])\n",
    "    return document_set\n",
    "\n",
    "#category = '[2-GeneralCategorization/Health]http://opendata.aragon.es/def/ei2a/categorization#Health'\n",
    "#print retrieve_documents_solr(category, k = 1)"
   ]
  },
  {
   "cell_type": "code",
   "execution_count": 4,
   "metadata": {},
   "outputs": [],
   "source": [
    "# concatenates all retrieved documents into a single document, called corpus.\n",
    "def concat_documents(document_set):    \n",
    "    corpus = ''\n",
    "    for document in document_set:\n",
    "        corpus += document + ' '       \n",
    "    return corpus"
   ]
  },
  {
   "cell_type": "code",
   "execution_count": 5,
   "metadata": {},
   "outputs": [],
   "source": [
    "def text_rank(corpus, k):\n",
    "    #start_time = time.time()\n",
    "    keyphrases = textrank.extractKeyphrases(text = corpus, k = k, lang = LANGUAGE, download_dir='/home/jovyan/work/data/nltk/')   #/home/jovyan/work/data/nltk/\n",
    "    #print(\"--- %s TextRank seconds ---\" % (time.time() - start_time))\n",
    "    return keyphrases"
   ]
  },
  {
   "cell_type": "code",
   "execution_count": 6,
   "metadata": {},
   "outputs": [],
   "source": [
    "def get_keyphrases(category, number_documents, number_phrases):  \n",
    "    document_set = retrieve_documents_solr(category, number_documents)\n",
    "    \n",
    "    #TextRank:\n",
    "    corpus = concat_documents(document_set)\n",
    "    keyphrases = text_rank(corpus = corpus, k = number_phrases)\n",
    "\n",
    "    return keyphrases\n",
    "\n",
    "# category = \"[2-GeneralCategorization/Health]http://opendata.aragon.es/def/ei2a/categorization#Health\"\n",
    "# numberdocuments = 2\n",
    "# numberphrases = 20\n",
    "# get_keyphrases(category, number_documents = numberdocuments, number_phrases = numberphrases)"
   ]
  },
  {
   "cell_type": "code",
   "execution_count": 7,
   "metadata": {},
   "outputs": [
    {
     "name": "stdout",
     "output_type": "stream",
     "text": [
      "{\"body\": {\"category\": \"[2-GeneralCategorization/Health]http://opendata.aragon.es/def/ei2a/categorization#Health\", \"numberdocuments\": 2, \"numberphrases\": 20}}\n"
     ]
    }
   ],
   "source": [
    "REQUEST = json.dumps({\n",
    "    'body': {\n",
    "        \"category\": \"[2-GeneralCategorization/Health]http://opendata.aragon.es/def/ei2a/categorization#Health\",\n",
    "        \"numberdocuments\": 2,\n",
    "        \"numberphrases\": 20\n",
    "    }\n",
    "})\n",
    "print(REQUEST)"
   ]
  },
  {
   "cell_type": "code",
   "execution_count": 8,
   "metadata": {},
   "outputs": [
    {
     "name": "stdout",
     "output_type": "stream",
     "text": [
      "{\"list\": [\"informaci\\u00f3n : 0.015860829922052386\", \"generada : 0.01255335664576223\", \"documentaci\\u00f3n : 0.017825098609690407\", \"oficial : 0.011815382976537085\", \"garantizar : 0.01448252510594674\", \"universitario : 0.0175226998154406\", \"combatir : 0.012759401866496602\", \"realizar : 0.012245596333085907\", \"dimensi\\u00f3n : 0.013565791474017258 internacional : 0.01735606756739859\", \"mediante : 0.012588591549890522\", \"intercambio : 0.015800238723435948\", \"choque : 0.012028959681046895\", \"circular : 0.01251599422218443\", \"impulsando : 0.014696932384263416\", \"tur\\u00edstico : 0.013690800986032838\", \"acreditaci\\u00f3n : 0.01641208321510232\", \"agencias : 0.012264302533991401\", \"superior : 0.012557185596314526\", \"compras : 0.011954950109142335\", \"inscrita : 0.012359219209195627\"]}\n"
     ]
    }
   ],
   "source": [
    "# POST /keyphrasestextrank\n",
    "req = json.loads(REQUEST)\n",
    "category =  req['body']['category']\n",
    "number_documents = req['body']['numberdocuments']\n",
    "number_phrases = req['body']['numberphrases']\n",
    "\n",
    "# print (req)\n",
    "response = get_keyphrases(category, number_documents, number_phrases)\n",
    "\n",
    "status=200\n",
    "print (json.dumps({\"list\":response}))"
   ]
  },
  {
   "cell_type": "code",
   "execution_count": 9,
   "metadata": {},
   "outputs": [
    {
     "name": "stdout",
     "output_type": "stream",
     "text": [
      "{\"status\": 200, \"headers\": {\"Content-Type\": \"application/json\"}}\n"
     ]
    }
   ],
   "source": [
    "# ResponseInfo POST /keyphrasestextrank\n",
    "print(json.dumps({\n",
    "    \"status\" : status,\n",
    "    \"headers\" : {\n",
    "        \"Content-Type\" : \"application/json\"\n",
    "    }\n",
    "}))"
   ]
  },
  {
   "cell_type": "code",
   "execution_count": 10,
   "metadata": {},
   "outputs": [],
   "source": [
    "#print nltk.data.path"
   ]
  },
  {
   "cell_type": "code",
   "execution_count": null,
   "metadata": {},
   "outputs": [],
   "source": []
  },
  {
   "cell_type": "code",
   "execution_count": null,
   "metadata": {},
   "outputs": [],
   "source": []
  }
 ],
 "metadata": {
  "kernelspec": {
   "display_name": "Python [conda env:py3Env]",
   "language": "python",
   "name": "conda-env-py3Env-py"
  },
  "language_info": {
   "codemirror_mode": {
    "name": "ipython",
    "version": 3
   },
   "file_extension": ".py",
   "mimetype": "text/x-python",
   "name": "python",
   "nbconvert_exporter": "python",
   "pygments_lexer": "ipython3",
   "version": "3.6.9"
  }
 },
 "nbformat": 4,
 "nbformat_minor": 2
}
