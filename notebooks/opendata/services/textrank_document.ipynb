{
 "cells": [
  {
   "cell_type": "code",
   "execution_count": 8,
   "metadata": {},
   "outputs": [
    {
     "data": {
      "text/plain": [
       "'UTF-8'"
      ]
     },
     "execution_count": 8,
     "metadata": {},
     "output_type": "execute_result"
    }
   ],
   "source": [
    "#\n",
    "#import pysolr\n",
    "import uuid\n",
    "import os\n",
    "import time\n",
    "\n",
    "import json\n",
    "\n",
    "import textrank\n",
    "PYTHONIOENCODING=\"UTF-8\"\n",
    "import sys\n",
    "sys.stdout.encoding\n",
    "'UTF-8'"
   ]
  },
  {
   "cell_type": "code",
   "execution_count": 9,
   "metadata": {},
   "outputs": [],
   "source": [
    "LANGUAGE= 'spanish'\n",
    "\n",
    "#SOLR_URL = \"http://argon-solr:8975/solr/opendata\"\n",
    "#solr = pysolr.Solr(SOLR_URL, timeout=10)"
   ]
  },
  {
   "cell_type": "code",
   "execution_count": 10,
   "metadata": {},
   "outputs": [],
   "source": [
    "def text_rank(document, k):\n",
    "    #start_time = time.time()\n",
    "    keyphrases = textrank.extractKeyphrases(text = document, k = k, lang = LANGUAGE, download_dir='/home/jovyan/work/data/nltk/') #/home/jovyan/work/data/nltk/  \n",
    "    #print(\"--- %s TextRank seconds ---\" % (time.time() - start_time))\n",
    "    return keyphrases"
   ]
  },
  {
   "cell_type": "code",
   "execution_count": 11,
   "metadata": {},
   "outputs": [
    {
     "name": "stdout",
     "output_type": "stream",
     "text": [
      "{\"body\": {\"document\": \"Advertidos errores en la composici\\u00f3n del Decreto citado, publicado en el &quot;Bolet\\u00edn Oficial de Arag\\u00f3n&quot;, n\\u00famero 98, de 23 de mayo de 2018, por omisi\\u00f3n de la numeraci\\u00f3n y vi\\u00f1etas contenidas en los art\\u00edculos 4 y 7 y en el apartado 3 del art\\u00edculo 19, se procede a efectuar la oportuna rectificaci\\u00f3n, mediante la reproducci\\u00f3n \\u00edntegra de los mismos, resultando como sigue: En la p\\u00e1gina 15811, &quot;Art\\u00edculo 4. Requisitos generales de los aspirantes. 1. Los aspirantes a ser incluidos en la bolsa de trabajo deber\\u00e1n reunir los requisitos generales siguientes: a) Poseer la nacionalidad espa\\u00f1ola. b) Tener la edad establecida en las bases comunes que regir\\u00e1n los procesos selectivos para ingreso o acceso en los Cuerpos de Funcionarios de los Cuerpos Nacionales al servicio de la Administraci\\u00f3n de Justicia. c) No haber sido condenados, ni estar procesados ni inculpados por delito doloso, a menos que se haya dictado en la causa auto de sobreseimiento. d) No estar inhabilitados para el ejercicio de las funciones p\\u00fablicas. e) No haber sido separados, mediante procedimiento disciplinario, del servicio de una administraci\\u00f3n p\\u00fablica en v\\u00eda disciplinaria o judicial, salvo que hayan sido rehabilitados. f) No tener causa de incompatibilidad para el ejercicio de la funci\\u00f3n p\\u00fablica en la Administraci\\u00f3n de Justicia de las relacionadas en el art\\u00edculo 498 de la Ley Org\\u00e1nica 19/2003, de 23 de diciembre, de modificaci\\u00f3n de la Ley Org\\u00e1nica del Poder Judicial. g) No haber sido sancionados por falta muy grave, en los \\u00faltimos tres a\\u00f1os. h) Cumplir cualquiera de las siguientes condiciones: 1.  Haber superado al menos el primer ejercicio obligatorio de la oposici\\u00f3n en el \\u00faltimo proceso selectivo al cuerpo al que se aspira. 2.  Haber superado al menos el treinta por ciento de la nota m\\u00e1xima posible en el primer ejercicio del \\u00faltimo proceso selectivo del cuerpo al que se aspira y haber prestado servicio durante al menos seis meses en los \\u00faltimos cinco a\\u00f1os en el cuerpo al que se opta. i) No padecer defecto f\\u00edsico o enfermedad ps\\u00edquica o f\\u00edsica, o cualquier otra circunstancia que los incapacite para el puesto de trabajo. j) No haber sido excluido de la bolsa anterior por no superar el periodo de pr\\u00e1cticas o a consecuencia de un expediente por rendimiento insuficiente o falta de capacidad. k) Para puestos del Cuerpo de Gesti\\u00f3n Procesal y Administrativa: Graduado, Diplomado Universitario, Ingeniero T\\u00e9cnico, Arquitecto T\\u00e9cnico o equivalente. l) Para puestos del Cuerpo de Tramitaci\\u00f3n Procesal y Administrativa: T\\u00edtulo de Bachiller o equivalente. ll) Para puestos de Auxilio Judicial: T\\u00edtulo de Graduado en ESO o equivalente. m) Figurar inscrito en los servicios p\\u00fablicos de empleo como demandante de empleo o mejora, excepto aquellas personas que se encuentren trabajando como personal funcionario interino de justicia. n) No formar parte de las bolsas de interinos de Justicia de otros \\u00e1mbitos territoriales en el cuerpo al que se aspira. El aspirante deber\\u00e1 justificarlo mediante declaraci\\u00f3n responsable. 2. Las condiciones mencionadas en el apartado anterior deben poseerse en el momento de finalizaci\\u00f3n del plazo de inscripci\\u00f3n en la bolsa y mantenerlas en todo momento, a excepci\\u00f3n del punto m) que se acreditar\\u00e1 a la fecha en la que se produzca el llamamiento. En el supuesto de que a dicha fecha no se pueda acreditar, supondr\\u00e1 una causa de exclusi\\u00f3n regulada en el art\\u00edculo 18 de este reglamento&quot;. En la p\\u00e1gina 15813, &quot;Art\\u00edculo 7. Fases. El proceso de la elaboraci\\u00f3n de la bolsa de trabajo para cubrir con car\\u00e1cter interino puestos de trabajo de los Cuerpos Generales al servicio de la Administraci\\u00f3n de Justicia, transferidos a la Comunidad Aut\\u00f3noma de Arag\\u00f3n, consta de las siguientes fases: a) Grabaci\\u00f3n de requisitos generales y m\\u00e9ritos a trav\\u00e9s de la aplicaci\\u00f3n inform\\u00e1tica. b) Autobaremaci\\u00f3n de m\\u00e9ritos&quot;. En la p\\u00e1gina 15818, &quot;Art\\u00edculo 19. Procedimiento por rendimiento insuficiente o falta de capacidad&quot;. &quot;3. Cumplidos estos tr\\u00e1mites, se formular\\u00e1 la correspondiente propuesta de resoluci\\u00f3n y se dar\\u00e1 traslado al funcionario interino para que, a la vista del expediente, formule en el plazo de diez d\\u00edas h\\u00e1biles las alegaciones que estime pertinentes. La Direcci\\u00f3n General competente en materia de Justicia dictar\\u00e1 la correspondiente resoluci\\u00f3n, que se notificar\\u00e1 al interesado y al \\u00f3rgano o unidad de destino, mediante la que deber\\u00e1 acordar alguno de los siguientes supuestos: a) Declarar que no se ha apreciado el rendimiento insuficiente o la falta de capacidad del interino. En este caso, el interino continuar\\u00e1 prestando servicios en el \\u00f3rgano o unidad correspondiente. b) Declarar el rendimiento insuficiente o la falta de capacidad del interino y disponer su cese y exclusi\\u00f3n definitiva de la bolsa durante su vigencia.&quot;\", \"numberphrases\": 20}}\n"
     ]
    }
   ],
   "source": [
    "REQUEST = json.dumps({\n",
    "    'body': {\n",
    "        \"document\": \"Advertidos errores en la composición del Decreto citado, publicado en el &quot;Boletín Oficial de Aragón&quot;, número 98, de 23 de mayo de 2018, por omisión de la numeración y viñetas contenidas en los artículos 4 y 7 y en el apartado 3 del artículo 19, se procede a efectuar la oportuna rectificación, mediante la reproducción íntegra de los mismos, resultando como sigue: En la página 15811, &quot;Artículo 4. Requisitos generales de los aspirantes. 1. Los aspirantes a ser incluidos en la bolsa de trabajo deberán reunir los requisitos generales siguientes: a) Poseer la nacionalidad española. b) Tener la edad establecida en las bases comunes que regirán los procesos selectivos para ingreso o acceso en los Cuerpos de Funcionarios de los Cuerpos Nacionales al servicio de la Administración de Justicia. c) No haber sido condenados, ni estar procesados ni inculpados por delito doloso, a menos que se haya dictado en la causa auto de sobreseimiento. d) No estar inhabilitados para el ejercicio de las funciones públicas. e) No haber sido separados, mediante procedimiento disciplinario, del servicio de una administración pública en vía disciplinaria o judicial, salvo que hayan sido rehabilitados. f) No tener causa de incompatibilidad para el ejercicio de la función pública en la Administración de Justicia de las relacionadas en el artículo 498 de la Ley Orgánica 19/2003, de 23 de diciembre, de modificación de la Ley Orgánica del Poder Judicial. g) No haber sido sancionados por falta muy grave, en los últimos tres años. h) Cumplir cualquiera de las siguientes condiciones: 1.  Haber superado al menos el primer ejercicio obligatorio de la oposición en el último proceso selectivo al cuerpo al que se aspira. 2.  Haber superado al menos el treinta por ciento de la nota máxima posible en el primer ejercicio del último proceso selectivo del cuerpo al que se aspira y haber prestado servicio durante al menos seis meses en los últimos cinco años en el cuerpo al que se opta. i) No padecer defecto físico o enfermedad psíquica o física, o cualquier otra circunstancia que los incapacite para el puesto de trabajo. j) No haber sido excluido de la bolsa anterior por no superar el periodo de prácticas o a consecuencia de un expediente por rendimiento insuficiente o falta de capacidad. k) Para puestos del Cuerpo de Gestión Procesal y Administrativa: Graduado, Diplomado Universitario, Ingeniero Técnico, Arquitecto Técnico o equivalente. l) Para puestos del Cuerpo de Tramitación Procesal y Administrativa: Título de Bachiller o equivalente. ll) Para puestos de Auxilio Judicial: Título de Graduado en ESO o equivalente. m) Figurar inscrito en los servicios públicos de empleo como demandante de empleo o mejora, excepto aquellas personas que se encuentren trabajando como personal funcionario interino de justicia. n) No formar parte de las bolsas de interinos de Justicia de otros ámbitos territoriales en el cuerpo al que se aspira. El aspirante deberá justificarlo mediante declaración responsable. 2. Las condiciones mencionadas en el apartado anterior deben poseerse en el momento de finalización del plazo de inscripción en la bolsa y mantenerlas en todo momento, a excepción del punto m) que se acreditará a la fecha en la que se produzca el llamamiento. En el supuesto de que a dicha fecha no se pueda acreditar, supondrá una causa de exclusión regulada en el artículo 18 de este reglamento&quot;. En la página 15813, &quot;Artículo 7. Fases. El proceso de la elaboración de la bolsa de trabajo para cubrir con carácter interino puestos de trabajo de los Cuerpos Generales al servicio de la Administración de Justicia, transferidos a la Comunidad Autónoma de Aragón, consta de las siguientes fases: a) Grabación de requisitos generales y méritos a través de la aplicación informática. b) Autobaremación de méritos&quot;. En la página 15818, &quot;Artículo 19. Procedimiento por rendimiento insuficiente o falta de capacidad&quot;. &quot;3. Cumplidos estos trámites, se formulará la correspondiente propuesta de resolución y se dará traslado al funcionario interino para que, a la vista del expediente, formule en el plazo de diez días hábiles las alegaciones que estime pertinentes. La Dirección General competente en materia de Justicia dictará la correspondiente resolución, que se notificará al interesado y al órgano o unidad de destino, mediante la que deberá acordar alguno de los siguientes supuestos: a) Declarar que no se ha apreciado el rendimiento insuficiente o la falta de capacidad del interino. En este caso, el interino continuará prestando servicios en el órgano o unidad correspondiente. b) Declarar el rendimiento insuficiente o la falta de capacidad del interino y disponer su cese y exclusión definitiva de la bolsa durante su vigencia.&quot;\",\n",
    "        \"numberphrases\": 20\n",
    "    }\n",
    "})\n",
    "print(REQUEST)"
   ]
  },
  {
   "cell_type": "code",
   "execution_count": 12,
   "metadata": {},
   "outputs": [
    {
     "name": "stdout",
     "output_type": "stream",
     "text": [
      "{\"list\": [\"momento : 0.004354163145734771\", \"proceso : 0.0043651709783045\", \"incapacite : 0.0053911072817017505\", \"expediente : 0.005416001211724686\", \"k : 0.004380551212791286\", \"oportuna : 0.004793357695377036 rectificaci\\u00f3n : 0.006673245497509637\", \"prestado : 0.004438108669491069 servicio : 0.004657893032882749\", \"requisitos : 0.0052972133254661985 generales : 0.0049814940661147165\", \"judicial : 0.004712949080468337\", \"interino : 0.004554268518404009 y : 0.004370320553264237\", \"formular\\u00e1 : 0.005120988278804481\", \"justicia : 0.004688381024815225\", \"y : 0.004370320553264237 disponer : 0.004760683297942052\", \"anterior : 0.004583144349973329\", \"procesos : 0.0046762496693478085 selectivos : 0.005309286008297371\", \"y : 0.004370320553264237 m\\u00e9ritos : 0.004494831426399591\", \"rehabilitados : 0.006390573624996206\", \"deber\\u00e1 : 0.004381360045213855 acordar : 0.004459845155664725\", \"condenados : 0.005182584587226451\", \"deber\\u00e1 : 0.004381360045213855 justificarlo : 0.006061321944792933\"]}\n"
     ]
    }
   ],
   "source": [
    "# POST /keyphrasestextrankdoc\n",
    "req = json.loads(REQUEST)\n",
    "document =  req['body']['document']\n",
    "number_phrases = req['body']['numberphrases']\n",
    "\n",
    "# print (req)\n",
    "response = text_rank(document, number_phrases)\n",
    "\n",
    "status=200\n",
    "print (json.dumps({\"list\":response}))"
   ]
  },
  {
   "cell_type": "code",
   "execution_count": 13,
   "metadata": {},
   "outputs": [
    {
     "name": "stdout",
     "output_type": "stream",
     "text": [
      "{\"status\": 200, \"headers\": {\"Content-Type\": \"application/json\"}}\n"
     ]
    }
   ],
   "source": [
    "# ResponseInfo POST /keyphrasestextrankdoc\n",
    "print(json.dumps({\n",
    "    \"status\" : status,\n",
    "    \"headers\" : {\n",
    "        \"Content-Type\" : \"application/json\"\n",
    "    }\n",
    "}))"
   ]
  },
  {
   "cell_type": "code",
   "execution_count": null,
   "metadata": {},
   "outputs": [],
   "source": [
    "#print nltk.data.path"
   ]
  },
  {
   "cell_type": "code",
   "execution_count": null,
   "metadata": {},
   "outputs": [],
   "source": []
  }
 ],
 "metadata": {
  "kernelspec": {
   "display_name": "Python [conda env:py3Env]",
   "language": "python",
   "name": "conda-env-py3Env-py"
  },
  "language_info": {
   "codemirror_mode": {
    "name": "ipython",
    "version": 3
   },
   "file_extension": ".py",
   "mimetype": "text/x-python",
   "name": "python",
   "nbconvert_exporter": "python",
   "pygments_lexer": "ipython3",
   "version": "3.6.9"
  }
 },
 "nbformat": 4,
 "nbformat_minor": 2
}
