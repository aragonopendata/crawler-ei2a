{
 "cells": [
  {
   "cell_type": "code",
   "execution_count": 1,
   "metadata": {},
   "outputs": [],
   "source": [
    "import quepy\n",
    "from SPARQLWrapper import SPARQLWrapper, JSON\n",
    "import re\n",
    "import json"
   ]
  },
  {
   "cell_type": "code",
   "execution_count": 2,
   "metadata": {},
   "outputs": [],
   "source": [
    "sparql = SPARQLWrapper(\"http://argon-virtuoso:8890/sparql\")\n",
    "opendata = quepy.install(\"opendata\")\n",
    "\n",
    "example_questions = [\n",
    "    \"¿Dónde se ha citado Sanidad?\",\n",
    "    \"¿Dónde trabaja Ángel Fernández?\",\n",
    "    \"¿Qué puesto ocupa Ángel Fernández?\",\n",
    "    \"¿Cuándo empezó a trabajar Manuel Muniesa Alfonso?\",\n",
    "    \"¿Cuándo terminó de trabajar Manuel Muniesa Alfonso?\",\n",
    "    \"¿Dónde está el Instituto Tecnológico de Aragón?\",\n",
    "    \"¿Cuál es el teléfono del Instituto Tecnológico de Aragón?\",\n",
    "    \"Resumen de http://transparencia.aragon.es/node/5528\",\n",
    "    \"Categorías de http://transparencia.aragon.es/node/5528\"\n",
    "]\n",
    "\n",
    "def quepy_query(question):\n",
    "    question = question.replace(\"¿\".decode(\"utf-8\"),\" ¿ \".decode(\"utf-8\")) # !TODO mejorar\n",
    "    url = re.findall(\"https?://.*\",question)\n",
    "    if url:\n",
    "        question = question.replace(url[0],\"URL_MATCH\") # Reemplazar la url por URL_MATCH\n",
    "\n",
    "    targets, query, metadata = opendata.get_query(question)\n",
    "\n",
    "    if not query:\n",
    "        return {\"message\": \"La pregunta no es válida, preguntas de ejemplo:\", \"results\": example_questions, \"answer\": False}\n",
    "    else:\n",
    "        conceptTarget = metadata[0]\n",
    "        infoToPrint = metadata[1]\n",
    "        for i in range(len(targets)):\n",
    "            if targets[i].startswith(\"?\"):\n",
    "                targets[i] = targets[i][1:]\n",
    "        if url:\n",
    "            query = query.replace(\"URL_MATCH\", url[0])  # Deshacer el cambio de URL_MATCH\n",
    "        sparql.setQuery(query)\n",
    "        sparql.setReturnFormat(JSON)\n",
    "        result = sparql.query().convert()\n",
    "        ret = {}\n",
    "        for r in result[\"results\"][\"bindings\"]:\n",
    "            # Obtener las 3 respuestas\n",
    "            key = r[targets[2]][\"value\"]  # Nombre completo the la pregunta\n",
    "            answer = r[targets[1]][\"value\"]  # Respuesta (literal)\n",
    "            node = r[targets[0]][\"value\"]  # Nodo de la respuesta\n",
    "            if key not in ret:\n",
    "                ret[key] = [[answer,node]]\n",
    "            else:\n",
    "                ret[key].append([answer,node])\n",
    "        if ret:\n",
    "            if infoToPrint == \"La lista de categorías es:\":  # Limpiar la lista de categorías\n",
    "                for key in ret:\n",
    "                    for i in range(len(ret[key])):\n",
    "                        ret[key][i][0] = ret[key][i][0].split(\"#\")[1]\n",
    "                    ret[key] = [x for x in ret[key] if x[0] != \"NamedIndividual\"]\n",
    "            return {\"message\": infoToPrint, \"results\": ret, \"answer\": True}  # Respuesta encontrada\n",
    "        else:\n",
    "             return {\"message\": \"No se ha encontrado una respuesta\", \"answer\": False}  # Respuesta no encontrada en Virtuoso\n"
   ]
  },
  {
   "cell_type": "code",
   "execution_count": 3,
   "metadata": {},
   "outputs": [
    {
     "name": "stdout",
     "output_type": "stream",
     "text": [
      "{\"body\": {\"question\": \"\\u00bfQu\\u00e9 puesto ocupa \\u00c1ngel Fern\\u00e1ndez?\"}}\n"
     ]
    }
   ],
   "source": [
    "REQUEST=json.dumps({\n",
    "    'body': {'question':'¿Qué puesto ocupa Ángel Fernández?'\n",
    "            }})\n",
    "print(REQUEST)"
   ]
  },
  {
   "cell_type": "code",
   "execution_count": 4,
   "metadata": {},
   "outputs": [
    {
     "name": "stdout",
     "output_type": "stream",
     "text": [
      "{\"answer\": true, \"message\": \"{0} trabaja como:\", \"results\": {\"\\u00c1ngel Fern\\u00e1ndez Cuello\": [[\"Director del Instituto Tecnol\\u00f3gico de Arag\\u00f3n\", \"http://opendata.aragon.es/def/ei2a#Role739\"]]}}\n"
     ]
    }
   ],
   "source": [
    "# POST /quepy\n",
    "req = json.loads(REQUEST)\n",
    "question = req['body']['question']\n",
    "answer = quepy_query(question)\n",
    "status = 200\n",
    "print (json.dumps(answer))\n"
   ]
  },
  {
   "cell_type": "code",
   "execution_count": 5,
   "metadata": {},
   "outputs": [
    {
     "data": {
      "text/plain": [
       "{'answer': False,\n",
       " 'message': 'Respuesta no encontrada, busqueda alternativa en Solr:',\n",
       " 'results': [u'https://www.saludinforma.es/portalsi/web/salud/detalle/-/asset_publisher/QIkE4rhakPHF/content/plan-de-salud-de-aragon-2030?redirect=https%3A%2F%2Fwww.saludinforma.es%2Fportalsi%2Fweb%2Fsalud%2Fdetalle%3Fp_p_id%3D101_INSTANCE_gcAH3p6QSwo7%26p_p_lifecycle%3D0%26p_p_state%3Dnormal%26p_p_mode%3Dview%26p_p_col_id%3Dcolumn-1%26p_p_col_count%3D2',\n",
       "  u'http://transparencia.aragon.es/content/MesaSectorialSanidad',\n",
       "  u'http://transparencia.aragon.es/node/5679',\n",
       "  u'https://www.saludinforma.es/portalsi/documents/10179/2629916/ANEXO_VI_Aceptacion_subvencion_concedida.pdf/ba960b51-448d-4f71-b662-d7d5789e0920',\n",
       "  u'https://www.saludinforma.es/portalsi/web/salud/proteccion-datos',\n",
       "  u'http://transparencia.aragon.es/content/departamento-de-sanidad',\n",
       "  u'https://www.saludinforma.es/portalsi/web/salud/servicios-prestaciones/carpeta-de-salud',\n",
       "  u'https://www.saludinforma.es/portalsi/web/salud/servicios-prestaciones/carpeta-de-salud?login=clave',\n",
       "  u'https://www.saludinforma.es/portalsi/web/salud/servicios-prestaciones/carpeta-de-salud?login=cert',\n",
       "  u'https://www.saludinforma.es/portalsi/servicios-prestaciones/carpeta-de-salud',\n",
       "  u'https://www.saludinforma.es/portalsi/web/salud/tramites-gestiones/solicitud-del-carnet-de-donante-de-organos',\n",
       "  u'https://www.saludinforma.es/portalsi/web/salud/contactar',\n",
       "  u'https://www.saludinforma.es/GestionTarjetaWeb/start.htm',\n",
       "  u'https://www.saludinforma.es/portalsi/contactar',\n",
       "  u'https://www.saludinforma.es/CitaPreviaTotem/start.htm',\n",
       "  u'https://www.saludinforma.es/portalsi/documents/10179/10891/Hoja_Sugerencias_Agradecimientos/323a2f6e-e9b6-4e8f-a1ff-74891cfbeeb8?version=1.3',\n",
       "  u'https://www.saludinforma.es/portalsi/documents/10179/10891/Hoja_Sugerencias_Agradecimientos_201405.pdf/323a2f6e-e9b6-4e8f-a1ff-74891cfbeeb8',\n",
       "  u'https://www.saludinforma.es/portalsi/documents/10179/2629916/ANEXO_II_Certificados_Secretario.pdf/5e98fd7f-91ec-427f-99fd-8e5803a2155d',\n",
       "  u'https://www.saludinforma.es/portalsi/web/salud/detalle/-/asset_publisher/QIkE4rhakPHF/content/la-estrategia-de-atencion-comunitaria-del-sistema-de-salud-de-aragon-en-atencion-primaria?redirect=https%3A%2F%2Fwww.saludinforma.es%2Fportalsi%2Fweb%2Fsalud%2Fdetalle%3Fp_p_id%3D101_INSTANCE_gcAH3p6QSwo7%26p_p_lifecycle%3D0%26p_p_state%3Dnormal%26p_p_mode%3Dview%26p_p_col_id%3Dcolumn-1%26p_p_col_count%3D2',\n",
       "  u'https://www.saludinforma.es/portalsi/web/salud/politica-editorial',\n",
       "  u'https://www.saludinforma.es/portalsi/politica-editorial',\n",
       "  u'https://www.saludinforma.es/portalsi/web/salud/participacion/espacio-asociaciones/asociaciones-salud/solicitud',\n",
       "  u'https://www.saludinforma.es/portalsi/documents/10179/2629916/ANEXO_VIII_Memoria_economica.pdf/f92aaa5d-75a6-4787-981c-77f94ec05df9',\n",
       "  u'https://www.saludinforma.es/portalsi/web/salud/tramites-gestiones/reclamaciones-sugerencias/atencion-al-ciudadano',\n",
       "  u'http://transparencia.aragon.es/sites/default/files/documents/plan_estrategico_iaj_2012-2015.pdf',\n",
       "  u'https://www.saludinforma.es/portalsi/web/salud/detalle?p_p_col_count=1&p_p_col_id=column-2&p_p_id=101_INSTANCE_zuRcGEVs0u5W&p_p_lifecycle=0&p_p_mode=view&p_p_state=normal&p_r_p_564233524_categoryId=0',\n",
       "  u'https://www.saludinforma.es/portalsi/documents/10179/2629916/ANEXO_VI_Aceptacion_o_renuncia.doc/0679ba03-d5a8-485f-902c-37decd91bd4c',\n",
       "  u'https://www.saludinforma.es/portalsi/documents/10179/2629916/ANEXO_VII_Memoria_de_actuacion.pdf/13c481ba-3013-4efd-a7a1-ab2f9c87acbf',\n",
       "  u'https://www.saludinforma.es/portalsi/documents/10179/2629916/ANEXO_V_Acepta_Propuesta_Definitva.pdf/cdcd3266-d191-4bc8-ac87-519264cc0048',\n",
       "  u'https://www.saludinforma.es/portalsi/web/salud/detalle/-/asset_publisher/QIkE4rhakPHF/content/jornada-sobre-el-plan-de-salud-de-aragon?redirect=https%3A%2F%2Fwww.saludinforma.es%2Fportalsi%2Fweb%2Fsalud%2Fdetalle%3Fp_p_id%3D101_INSTANCE_gcAH3p6QSwo7%26p_p_lifecycle%3D0%26p_p_state%3Dnormal%26p_p_mode%3Dview%26p_p_col_id%3Dcolumn-1%26p_p_col_count%3D2',\n",
       "  u'http://transparencia.aragon.es/content/conciertos',\n",
       "  u'http://transparencia.aragon.es/node/5592',\n",
       "  u'https://www.saludinforma.es/portalsi/web/salud/detalle/-/asset_publisher/QIkE4rhakPHF/content/plan-estrategico-de-jaca-hospital-de-jaca?redirect=https%3A%2F%2Fwww.saludinforma.es%2Fportalsi%2Fweb%2Fsalud%2Fdetalle%3Fp_p_id%3D101_INSTANCE_gcAH3p6QSwo7%26p_p_lifecycle%3D0%26p_p_state%3Dnormal%26p_p_mode%3Dview%26p_p_col_id%3Dcolumn-1%26p_p_col_count%3D2',\n",
       "  u'https://www.saludinforma.es/portalsi/documents/10179/2629916/ANEXO_VIII_Memoria_economica.doc/1d300229-b1e7-40eb-81bd-35c2fdc84910',\n",
       "  u'https://www.saludinforma.es/portalsi/documents/10179/2629916/ANEXO_III_Estimacion_ingresos-gastos.pdf/e06d53a7-18f6-4624-bd08-e5811f40490a',\n",
       "  u'https://www.saludinforma.es/portalsi/documents/10179/2629916/ANEXO_II_Certificados_Secretario.doc/e819545b-7543-4d02-8090-4692b8591a2e',\n",
       "  u'https://www.saludinforma.es/portalsi/documents/10179/376860/Folleto_Voluntades_Anticipadas/8b8f7931-a681-49e7-b7c2-e0f91c5da5eb?version=1.1',\n",
       "  u'https://www.saludinforma.es/portalsi/documents/10179/44217/Folleto_Voluntades_Anticipadas/8b8f7931-a681-49e7-b7c2-e0f91c5da5eb',\n",
       "  u'https://www.saludinforma.es/portalsi/documents/10179/10891/Hoja_Quejas_201405.pdf/0c58df9e-4c35-4242-bb97-4b83da34181a',\n",
       "  u'https://www.saludinforma.es/portalsi/documents/10179/10891/Hoja_Quejas/0c58df9e-4c35-4242-bb97-4b83da34181a?version=1.6',\n",
       "  u'http://transparencia.aragon.es/sites/default/files/documents/datos_2016_organos_representacion_empleados.pdf',\n",
       "  u'https://www.saludinforma.es/portalsi/documents/10179/2629916/ANEXO_IV_Memoria_descriptiva.pdf/011a873b-a344-47b4-ae4c-c619ce9f164e',\n",
       "  u'https://www.saludinforma.es/portalsi/documents/10179/10891/Informe+de+quejas+y+sugerencias+2016/8c48fe9a-ca60-482b-99a5-22ab005b1f0f?version=1.0',\n",
       "  u'http://transparencia.aragon.es/sites/default/files/documents/concierto_salud_mental.pdf',\n",
       "  u'https://www.saludinforma.es/portalsi/documents/10179/376860/Decreto_96_2013_Comites_Etica_Aragon.pdf/b33cd2cb-1e34-4d42-9442-05e426117bc8?version=1.0',\n",
       "  u'https://www.saludinforma.es/portalsi/web/salud/herramientas',\n",
       "  u'https://www.saludinforma.es/portalsi/documents/10179/358633/Texto_Consolidado_Ley_Trasplantes_2011.pdf/5bcea86d-aa4d-4a28-b137-24c6064d8d5c?version=1.0',\n",
       "  u'https://www.saludinforma.es/portalsi/documents/10179/10867/Texto_Consolidado_Ley_Trasplantes_2011.pdf/5bcea86d-aa4d-4a28-b137-24c6064d8d5c',\n",
       "  u'http://transparencia.aragon.es/content/cat%C3%A1logo-de-servicios-sanitarios-educativos-y-sociales',\n",
       "  u'https://www.saludinforma.es/portalsi/web/salud/participacion/participacion-en-salud',\n",
       "  u'https://www.saludinforma.es/portalsi/web/salud/servicios-prestaciones/incapacidad-temporal',\n",
       "  u'http://transparencia.aragon.es/node/3325',\n",
       "  u'http://transparencia.aragon.es/node/3325',\n",
       "  u'http://transparencia.aragon.es/content/%C3%B3rganos-de-representaci%C3%B3n-de-los-empleados',\n",
       "  u'https://www.saludinforma.es/portalsi/web/salud/participacion/subvenciones/convocatorias/subvenciones-caracter-sanitario-2018',\n",
       "  u'https://www.saludinforma.es/portalsi/web/salud/servicios-prestaciones/derecho-tarjeta/tarjeta-sanitaria-en-aragon',\n",
       "  u'https://www.saludinforma.es/portalsi/servicios-prestaciones/derecho-tarjeta/tarjeta-sanitaria-en-aragon',\n",
       "  u'https://www.saludinforma.es/portalsi/web/salud/participacion/subvenciones/convocatorias/subvenciones-caracter-sanitario-2018?redirect=https%3A%2F%2Fwww.saludinforma.es%2Fportalsi%2Fweb%2Fsalud%2Fdetalle%3Fp_p_id%3D101_INSTANCE_gcAH3p6QSwo7%26p_p_lifecycle%3D0%26p_p_state%3Dnormal%26p_p_mode%3Dview%26p_p_col_id%3Dcolumn-1%26p_p_col_count%3D2',\n",
       "  u'http://transparencia.aragon.es/node/5301',\n",
       "  u'https://www.saludinforma.es/portalsi/web/salud/bioetica-salud/bioetica-salud/jornada-participacion-ciudadana-comites-etica-sanitaria',\n",
       "  u'https://www.saludinforma.es/portalsi/participacion/subvenciones/convocatorias/subvenciones-caracter-sanitario-2018',\n",
       "  u'http://transparencia.aragon.es/sites/default/files/images/plan_2014_2017.pdf',\n",
       "  u'http://transparencia.aragon.es/sites/default/files/documents/estrategias_proyectos_atencion_oncologica_aragon_2017.pdf',\n",
       "  u'http://transparencia.aragon.es/sites/default/files/documents/informe_cumplimento_pgq.pdf',\n",
       "  u'https://www.saludinforma.es/portalsi/documents/10179/376860/Ley_10_2011_Muerte_Digna_Aragon.pdf/698a6359-b6c9-4dc0-b97e-47f90a846b5e?version=1.0',\n",
       "  u'http://transparencia.aragon.es/sites/default/files/documents/2017_instrucciones_elaboracion_nominas_personal_estatutario_salud.pdf',\n",
       "  u'https://www.saludinforma.es/portalsi/documents/10179/2629916/ANEXO_I_Solicitud_convocatoria.pdf/ab4d9d1f-d9f7-4b34-987d-838fc00a8bb1',\n",
       "  u'http://transparencia.aragon.es/content/organismos-aut%C3%B3nomos-y-entidades-de-derecho-p%C3%BAblico',\n",
       "  u'https://www.saludinforma.es/portalsi/web/salud/bioetica-salud/bioetica-salud',\n",
       "  u'https://www.saludinforma.es/portalsi/bioetica-salud/bioetica-salud',\n",
       "  u'https://www.saludinforma.es/portalsi/documents/10179/502465/Ley_Reguladora_Derecho_Asociacion.pdf/76afae32-ca70-40b3-84d5-ca397ff159c2?version=1.1',\n",
       "  u'https://www.saludinforma.es/portalsi/documents/10179/376860/Ley_14_2007_Investigacion_Biomedica.pdf/4d5ec56b-8025-4c64-a688-693f5ac5c9c7?version=1.0']}"
      ]
     },
     "execution_count": 5,
     "metadata": {},
     "output_type": "execute_result"
    }
   ],
   "source": [
    "quepy_query(\"donde citar sanidad\")"
   ]
  },
  {
   "cell_type": "code",
   "execution_count": 6,
   "metadata": {},
   "outputs": [
    {
     "name": "stdout",
     "output_type": "stream",
     "text": [
      "{\"status\": 200, \"headers\": {\"Content-Type\": \"application/json\"}}\n"
     ]
    }
   ],
   "source": [
    "# ResponseInfo POST /quepy\n",
    "print(json.dumps({\n",
    "    \"status\" : status,\n",
    "    \"headers\" : {\n",
    "        \"Content-Type\" : \"application/json\"\n",
    "    }\n",
    "}))"
   ]
  },
  {
   "cell_type": "code",
   "execution_count": null,
   "metadata": {},
   "outputs": [],
   "source": []
  },
  {
   "cell_type": "code",
   "execution_count": null,
   "metadata": {},
   "outputs": [],
   "source": []
  }
 ],
 "metadata": {
  "kernelspec": {
   "display_name": "Python [conda env:py2Quepy]",
   "language": "python",
   "name": "conda-env-py2Quepy-py"
  },
  "language_info": {
   "codemirror_mode": {
    "name": "ipython",
    "version": 2
   },
   "file_extension": ".py",
   "mimetype": "text/x-python",
   "name": "python",
   "nbconvert_exporter": "python",
   "pygments_lexer": "ipython2",
   "version": "2.7.15"
  }
 },
 "nbformat": 4,
 "nbformat_minor": 2
}
